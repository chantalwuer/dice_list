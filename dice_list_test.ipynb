{
 "cells": [
  {
   "cell_type": "code",
   "execution_count": 49,
   "metadata": {},
   "outputs": [],
   "source": [
    "import pandas as pd\n",
    "import numpy as np"
   ]
  },
  {
   "cell_type": "code",
   "execution_count": 80,
   "metadata": {},
   "outputs": [],
   "source": [
    "todolist_input = input(\"Enter your todo list: \").lower()\n",
    "# todolist = todolist.split(\",\").strip()\n",
    "todolist = [x.strip() for x in todolist_input.split(',')]"
   ]
  },
  {
   "cell_type": "code",
   "execution_count": 81,
   "metadata": {},
   "outputs": [
    {
     "data": {
      "text/plain": [
       "['kochen', 'backen', 'lesen']"
      ]
     },
     "execution_count": 81,
     "metadata": {},
     "output_type": "execute_result"
    }
   ],
   "source": [
    "todolist"
   ]
  },
  {
   "cell_type": "code",
   "execution_count": 84,
   "metadata": {},
   "outputs": [
    {
     "name": "stdout",
     "output_type": "stream",
     "text": [
      "You have left 20 points to assign to 3 tasks.\n",
      "You have left 10 points to assign to 2 tasks.\n",
      "You have left 5 points to assign to 1 tasks.\n"
     ]
    }
   ],
   "source": [
    "list_with_weights = {}\n",
    "for task in todolist:\n",
    "    print(f\"You have left {20 - sum(list_with_weights.values())} points to assign to {len(todolist) - len(list_with_weights)} tasks.\")\n",
    "    if sum(list_with_weights.values()) < 20:\n",
    "        list_with_weights[task] = int(input(f\"Which weight do you assign to {task}?\"))\n",
    "    else:\n",
    "        list_with_weights[task] = 0\n",
    "        print(\"You have reached the maximum weight of 20. The remaining tasks will be assigned a weight of 0.\")"
   ]
  },
  {
   "cell_type": "code",
   "execution_count": 85,
   "metadata": {},
   "outputs": [
    {
     "data": {
      "text/plain": [
       "{'kochen': 10, 'backen': 5, 'lesen': 5}"
      ]
     },
     "execution_count": 85,
     "metadata": {},
     "output_type": "execute_result"
    }
   ],
   "source": [
    "list_with_weights"
   ]
  },
  {
   "cell_type": "code",
   "execution_count": 86,
   "metadata": {},
   "outputs": [
    {
     "data": {
      "text/plain": [
       "20"
      ]
     },
     "execution_count": 86,
     "metadata": {},
     "output_type": "execute_result"
    }
   ],
   "source": [
    "sum(list_with_weights.values())"
   ]
  },
  {
   "cell_type": "code",
   "execution_count": 87,
   "metadata": {},
   "outputs": [
    {
     "name": "stdout",
     "output_type": "stream",
     "text": [
      "Kochen has a weight of 10.\n",
      "Backen has a weight of 5.\n",
      "Lesen has a weight of 5.\n"
     ]
    }
   ],
   "source": [
    "for key, value in list_with_weights.items():\n",
    "    print(f\"{key.capitalize()} has a weight of {value}.\")"
   ]
  },
  {
   "cell_type": "code",
   "execution_count": 88,
   "metadata": {},
   "outputs": [],
   "source": [
    "twenty_numbers = np.arange(1,21)"
   ]
  },
  {
   "cell_type": "code",
   "execution_count": 89,
   "metadata": {},
   "outputs": [
    {
     "name": "stdout",
     "output_type": "stream",
     "text": [
      "kochen 10 ['kochen', 'kochen', 'kochen', 'kochen', 'kochen', 'kochen', 'kochen', 'kochen', 'kochen', 'kochen']\n",
      "backen 5 ['kochen', 'kochen', 'kochen', 'kochen', 'kochen', 'kochen', 'kochen', 'kochen', 'kochen', 'kochen', 'backen', 'backen', 'backen', 'backen', 'backen']\n",
      "lesen 5 ['kochen', 'kochen', 'kochen', 'kochen', 'kochen', 'kochen', 'kochen', 'kochen', 'kochen', 'kochen', 'backen', 'backen', 'backen', 'backen', 'backen', 'lesen', 'lesen', 'lesen', 'lesen', 'lesen']\n"
     ]
    }
   ],
   "source": [
    "tasks_weights = []\n",
    "for key, value in list_with_weights.items():\n",
    "    tasks_weights += [key] * value\n",
    "    print(key, value, tasks_weights)"
   ]
  },
  {
   "cell_type": "code",
   "execution_count": 90,
   "metadata": {},
   "outputs": [
    {
     "data": {
      "text/html": [
       "<div>\n",
       "<style scoped>\n",
       "    .dataframe tbody tr th:only-of-type {\n",
       "        vertical-align: middle;\n",
       "    }\n",
       "\n",
       "    .dataframe tbody tr th {\n",
       "        vertical-align: top;\n",
       "    }\n",
       "\n",
       "    .dataframe thead th {\n",
       "        text-align: right;\n",
       "    }\n",
       "</style>\n",
       "<table border=\"1\" class=\"dataframe\">\n",
       "  <thead>\n",
       "    <tr style=\"text-align: right;\">\n",
       "      <th></th>\n",
       "      <th>Number</th>\n",
       "      <th>Task</th>\n",
       "    </tr>\n",
       "  </thead>\n",
       "  <tbody>\n",
       "    <tr>\n",
       "      <th>0</th>\n",
       "      <td>1</td>\n",
       "      <td>kochen</td>\n",
       "    </tr>\n",
       "    <tr>\n",
       "      <th>1</th>\n",
       "      <td>2</td>\n",
       "      <td>kochen</td>\n",
       "    </tr>\n",
       "    <tr>\n",
       "      <th>2</th>\n",
       "      <td>3</td>\n",
       "      <td>kochen</td>\n",
       "    </tr>\n",
       "    <tr>\n",
       "      <th>3</th>\n",
       "      <td>4</td>\n",
       "      <td>kochen</td>\n",
       "    </tr>\n",
       "    <tr>\n",
       "      <th>4</th>\n",
       "      <td>5</td>\n",
       "      <td>kochen</td>\n",
       "    </tr>\n",
       "    <tr>\n",
       "      <th>5</th>\n",
       "      <td>6</td>\n",
       "      <td>kochen</td>\n",
       "    </tr>\n",
       "    <tr>\n",
       "      <th>6</th>\n",
       "      <td>7</td>\n",
       "      <td>kochen</td>\n",
       "    </tr>\n",
       "    <tr>\n",
       "      <th>7</th>\n",
       "      <td>8</td>\n",
       "      <td>kochen</td>\n",
       "    </tr>\n",
       "    <tr>\n",
       "      <th>8</th>\n",
       "      <td>9</td>\n",
       "      <td>kochen</td>\n",
       "    </tr>\n",
       "    <tr>\n",
       "      <th>9</th>\n",
       "      <td>10</td>\n",
       "      <td>kochen</td>\n",
       "    </tr>\n",
       "    <tr>\n",
       "      <th>10</th>\n",
       "      <td>11</td>\n",
       "      <td>backen</td>\n",
       "    </tr>\n",
       "    <tr>\n",
       "      <th>11</th>\n",
       "      <td>12</td>\n",
       "      <td>backen</td>\n",
       "    </tr>\n",
       "    <tr>\n",
       "      <th>12</th>\n",
       "      <td>13</td>\n",
       "      <td>backen</td>\n",
       "    </tr>\n",
       "    <tr>\n",
       "      <th>13</th>\n",
       "      <td>14</td>\n",
       "      <td>backen</td>\n",
       "    </tr>\n",
       "    <tr>\n",
       "      <th>14</th>\n",
       "      <td>15</td>\n",
       "      <td>backen</td>\n",
       "    </tr>\n",
       "    <tr>\n",
       "      <th>15</th>\n",
       "      <td>16</td>\n",
       "      <td>lesen</td>\n",
       "    </tr>\n",
       "    <tr>\n",
       "      <th>16</th>\n",
       "      <td>17</td>\n",
       "      <td>lesen</td>\n",
       "    </tr>\n",
       "    <tr>\n",
       "      <th>17</th>\n",
       "      <td>18</td>\n",
       "      <td>lesen</td>\n",
       "    </tr>\n",
       "    <tr>\n",
       "      <th>18</th>\n",
       "      <td>19</td>\n",
       "      <td>lesen</td>\n",
       "    </tr>\n",
       "    <tr>\n",
       "      <th>19</th>\n",
       "      <td>20</td>\n",
       "      <td>lesen</td>\n",
       "    </tr>\n",
       "  </tbody>\n",
       "</table>\n",
       "</div>"
      ],
      "text/plain": [
       "    Number    Task\n",
       "0        1  kochen\n",
       "1        2  kochen\n",
       "2        3  kochen\n",
       "3        4  kochen\n",
       "4        5  kochen\n",
       "5        6  kochen\n",
       "6        7  kochen\n",
       "7        8  kochen\n",
       "8        9  kochen\n",
       "9       10  kochen\n",
       "10      11  backen\n",
       "11      12  backen\n",
       "12      13  backen\n",
       "13      14  backen\n",
       "14      15  backen\n",
       "15      16   lesen\n",
       "16      17   lesen\n",
       "17      18   lesen\n",
       "18      19   lesen\n",
       "19      20   lesen"
      ]
     },
     "execution_count": 90,
     "metadata": {},
     "output_type": "execute_result"
    }
   ],
   "source": [
    "weighted_tasks = pd.DataFrame(twenty_numbers, columns=[\"Number\"])\n",
    "weighted_tasks['Task'] = tasks_weights\n",
    "weighted_tasks"
   ]
  },
  {
   "cell_type": "code",
   "execution_count": 75,
   "metadata": {},
   "outputs": [
    {
     "data": {
      "text/plain": [
       "20"
      ]
     },
     "execution_count": 75,
     "metadata": {},
     "output_type": "execute_result"
    }
   ],
   "source": [
    "len(tasks_weights)"
   ]
  },
  {
   "cell_type": "code",
   "execution_count": 105,
   "metadata": {},
   "outputs": [
    {
     "data": {
      "text/plain": [
       "7"
      ]
     },
     "execution_count": 105,
     "metadata": {},
     "output_type": "execute_result"
    }
   ],
   "source": [
    "random_number = random.randint(1,20)\n",
    "random_number"
   ]
  },
  {
   "cell_type": "code",
   "execution_count": 108,
   "metadata": {},
   "outputs": [
    {
     "name": "stdout",
     "output_type": "stream",
     "text": [
      "Your task is: Kochen\n"
     ]
    }
   ],
   "source": [
    "# Retrieve the task corresponding to the random number\n",
    "print(f\"Your task is: {weighted_tasks.loc[weighted_tasks['Number'] == random_number, 'Task'].values[0].capitalize()}\")"
   ]
  },
  {
   "attachments": {},
   "cell_type": "markdown",
   "metadata": {},
   "source": [
    "### Percent"
   ]
  },
  {
   "cell_type": "code",
   "execution_count": 111,
   "metadata": {},
   "outputs": [
    {
     "name": "stdout",
     "output_type": "stream",
     "text": [
      "You have left 100 points to assign to 3 tasks.\n",
      "You have left 50 points to assign to 2 tasks.\n",
      "You have left 25 points to assign to 1 tasks.\n"
     ]
    }
   ],
   "source": [
    "list_with_weights_percent = {}\n",
    "for task in todolist:\n",
    "    print(f\"You have left {100 - sum(list_with_weights_percent.values())} points to assign to {len(todolist) - len(list_with_weights_percent)} tasks.\")\n",
    "    if sum(list_with_weights_percent.values()) < 100:\n",
    "        list_with_weights_percent[task] = int(input(f\"Which weight do you assign to {task}?\"))\n",
    "    else:\n",
    "        list_with_weights_percent[task] = 0\n",
    "        print(\"You have reached the maximum weight of 20. The remaining tasks will be assigned a weight of 0.\")"
   ]
  },
  {
   "cell_type": "code",
   "execution_count": 112,
   "metadata": {},
   "outputs": [
    {
     "data": {
      "text/plain": [
       "{'kochen': 50, 'backen': 25, 'lesen': 25}"
      ]
     },
     "execution_count": 112,
     "metadata": {},
     "output_type": "execute_result"
    }
   ],
   "source": [
    "list_with_weights_percent"
   ]
  },
  {
   "cell_type": "code",
   "execution_count": 147,
   "metadata": {},
   "outputs": [],
   "source": [
    "die_numbers = 6"
   ]
  },
  {
   "cell_type": "code",
   "execution_count": 148,
   "metadata": {},
   "outputs": [
    {
     "data": {
      "text/plain": [
       "0.25"
      ]
     },
     "execution_count": 148,
     "metadata": {},
     "output_type": "execute_result"
    }
   ],
   "source": [
    "total = 25\n",
    "percent = total / 100\n",
    "percent"
   ]
  },
  {
   "cell_type": "code",
   "execution_count": 152,
   "metadata": {},
   "outputs": [
    {
     "data": {
      "text/plain": [
       "1"
      ]
     },
     "execution_count": 152,
     "metadata": {},
     "output_type": "execute_result"
    }
   ],
   "source": [
    "int((total / 100) * die_numbers)"
   ]
  },
  {
   "cell_type": "code",
   "execution_count": null,
   "metadata": {},
   "outputs": [],
   "source": [
    "print(math.ceil(4.2))"
   ]
  },
  {
   "cell_type": "code",
   "execution_count": 155,
   "metadata": {},
   "outputs": [
    {
     "name": "stdout",
     "output_type": "stream",
     "text": [
      "kochen 50 ['kochen', 'kochen', 'kochen']\n",
      "backen 25 ['kochen', 'kochen', 'kochen', 'backen', 'backen']\n",
      "lesen 25 ['kochen', 'kochen', 'kochen', 'backen', 'backen', 'lesen', 'lesen']\n",
      "7\n",
      "['kochen', 'kochen', 'kochen', 'backen', 'backen', 'lesen']\n",
      "6\n"
     ]
    }
   ],
   "source": [
    "import math\n",
    "\n",
    "tasks_weights_percent = []\n",
    "for key, value in list_with_weights_percent.items():\n",
    "    tasks_weights_percent += [key] * math.ceil((value / 100) * die_numbers)\n",
    "    print(key, value, tasks_weights_percent)\n",
    "    \n",
    "print(len(tasks_weights_percent))\n",
    "\n",
    "if len(tasks_weights_percent) > die_numbers:\n",
    "    tasks_weights_percent = tasks_weights_percent[:die_numbers]\n",
    "    print(tasks_weights_percent)\n",
    "    print(len(tasks_weights_percent))\n"
   ]
  },
  {
   "attachments": {},
   "cell_type": "markdown",
   "metadata": {},
   "source": [
    "### Backlog"
   ]
  },
  {
   "cell_type": "code",
   "execution_count": 13,
   "metadata": {},
   "outputs": [],
   "source": [
    "# Convert dictionary values to integers\n",
    "list_with_weights = {k: int(v) for k, v in list_with_weights.items()}"
   ]
  }
 ],
 "metadata": {
  "kernelspec": {
   "display_name": "Python 3",
   "language": "python",
   "name": "python3"
  },
  "language_info": {
   "codemirror_mode": {
    "name": "ipython",
    "version": 3
   },
   "file_extension": ".py",
   "mimetype": "text/x-python",
   "name": "python",
   "nbconvert_exporter": "python",
   "pygments_lexer": "ipython3",
   "version": "3.10.6"
  },
  "orig_nbformat": 4,
  "vscode": {
   "interpreter": {
    "hash": "2b8b86f559327ce6843ea91be0ed01e59e958eb874c1d15ad964abf259d489dd"
   }
  }
 },
 "nbformat": 4,
 "nbformat_minor": 2
}
